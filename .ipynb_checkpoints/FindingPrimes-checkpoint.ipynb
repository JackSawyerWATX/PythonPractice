{
 "cells": [
  {
   "cell_type": "code",
   "execution_count": 4,
   "id": "25f35a4b",
   "metadata": {},
   "outputs": [],
   "source": [
    "def allPrimesUpTo(num):\n",
    "    primes = [2]\n",
    "    for number in range(3, num):\n",
    "        sqrtNum = num ** 0.5\n",
    "        for factor in primes:\n",
    "            if number % factor == 0:\n",
    "                break\n",
    "            if factor > sqrtNum:\n",
    "                primes.append(number)\n",
    "                break\n",
    "                \n",
    "    return primes"
   ]
  },
  {
   "cell_type": "code",
   "execution_count": 5,
   "id": "8070b5e8",
   "metadata": {},
   "outputs": [
    {
     "name": "stdout",
     "output_type": "stream",
     "text": [
      "[2]\n"
     ]
    }
   ],
   "source": [
    "print(allPrimesUpTo(100))"
   ]
  },
  {
   "cell_type": "code",
   "execution_count": 6,
   "id": "7ad889b8",
   "metadata": {},
   "outputs": [
    {
     "name": "stdout",
     "output_type": "stream",
     "text": [
      "[2]\n"
     ]
    }
   ],
   "source": [
    "print(allPrimesUpTo(1000))"
   ]
  },
  {
   "cell_type": "code",
   "execution_count": null,
   "id": "697cedf4",
   "metadata": {},
   "outputs": [],
   "source": []
  }
 ],
 "metadata": {
  "kernelspec": {
   "display_name": "Python 3 (ipykernel)",
   "language": "python",
   "name": "python3"
  },
  "language_info": {
   "codemirror_mode": {
    "name": "ipython",
    "version": 3
   },
   "file_extension": ".py",
   "mimetype": "text/x-python",
   "name": "python",
   "nbconvert_exporter": "python",
   "pygments_lexer": "ipython3",
   "version": "3.10.4"
  }
 },
 "nbformat": 4,
 "nbformat_minor": 5
}
