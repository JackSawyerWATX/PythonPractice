{
 "cells": [
  {
   "cell_type": "code",
   "execution_count": 4,
   "id": "aaa09a04",
   "metadata": {},
   "outputs": [],
   "source": [
    "import threading\n",
    "import time"
   ]
  },
  {
   "cell_type": "code",
   "execution_count": 9,
   "id": "338fc680",
   "metadata": {},
   "outputs": [
    {
     "data": {
      "text/plain": [
       "[0, 1, 4, 9, 16]"
      ]
     },
     "execution_count": 9,
     "metadata": {},
     "output_type": "execute_result"
    }
   ],
   "source": [
    "def longSquare(num):\n",
    "    time.sleep(1)\n",
    "    return num**2\n",
    "\n",
    "[longSquare(n) for n in range(0,5)]"
   ]
  },
  {
   "cell_type": "code",
   "execution_count": 21,
   "id": "71473083",
   "metadata": {},
   "outputs": [
    {
     "name": "stdout",
     "output_type": "stream",
     "text": [
      "{2: 4, 1: 1}\n"
     ]
    }
   ],
   "source": [
    "def longSquare(num, results):\n",
    "    time.sleep(1)\n",
    "    results[num] = num**2\n",
    "\n",
    "results = {}\n",
    "t1 = threading.Thread(target=longSquare, args=(1, results))\n",
    "t2 = threading.Thread(target=longSquare, args=(2, results))\n",
    "\n",
    "t1.start()\n",
    "t2.start()\n",
    "\n",
    "t1.join()\n",
    "t2.join()\n",
    "\n",
    "print(results)"
   ]
  },
  {
   "cell_type": "code",
   "execution_count": 20,
   "id": "93e94321",
   "metadata": {},
   "outputs": [
    {
     "name": "stdout",
     "output_type": "stream",
     "text": [
      "{5: 25, 4: 16, 1: 1, 2: 4, 7: 49, 6: 36, 8: 64, 3: 9, 0: 0, 40: 1600, 38: 1444, 41: 1681, 9: 81, 34: 1156, 33: 1089, 36: 1296, 30: 900, 29: 841, 35: 1225, 26: 676, 25: 625, 32: 1024, 22: 484, 31: 961, 27: 729, 21: 441, 28: 784, 24: 576, 18: 324, 23: 529, 20: 400, 17: 289, 19: 361, 16: 256, 15: 225, 14: 196, 13: 169, 12: 144, 11: 121, 10: 100, 60: 3600, 39: 1521, 59: 3481, 62: 3844, 56: 3136, 61: 3721, 58: 3364, 57: 3249, 54: 2916, 37: 1369, 53: 2809, 49: 2401, 46: 2116, 45: 2025, 42: 1764, 73: 5329, 69: 4761, 65: 4225, 66: 4356, 55: 3025, 51: 2601, 52: 2704, 48: 2304, 44: 1936, 47: 2209, 43: 1849, 72: 5184, 71: 5041, 68: 4624, 67: 4489, 64: 4096, 63: 3969, 50: 2500, 70: 4900, 95: 9025, 99: 9801, 80: 6400, 91: 8281, 75: 5625, 87: 7569, 98: 9604, 84: 7056, 83: 6889, 97: 9409, 94: 8836, 93: 8649, 90: 8100, 86: 7396, 92: 8464, 89: 7921, 85: 7225, 82: 6724, 81: 6561, 78: 6084, 77: 5929, 79: 6241, 74: 5476, 96: 9216, 76: 5776, 88: 7744}\n"
     ]
    }
   ],
   "source": [
    "def longSquare(num, results):\n",
    "    time.sleep(1)\n",
    "    results[num] = num**2\n",
    "    \n",
    "results = {}\n",
    "threads = [threading.Thread(target = longSquare, args=(n, results)) for n in range(0, 100)]\n",
    "[t.start() for t in threads]\n",
    "[t.join() for t in threads]\n",
    "\n",
    "print(results)"
   ]
  },
  {
   "cell_type": "code",
   "execution_count": null,
   "id": "d24336bc",
   "metadata": {},
   "outputs": [],
   "source": [
    " "
   ]
  }
 ],
 "metadata": {
  "kernelspec": {
   "display_name": "Python 3 (ipykernel)",
   "language": "python",
   "name": "python3"
  },
  "language_info": {
   "codemirror_mode": {
    "name": "ipython",
    "version": 3
   },
   "file_extension": ".py",
   "mimetype": "text/x-python",
   "name": "python",
   "nbconvert_exporter": "python",
   "pygments_lexer": "ipython3",
   "version": "3.10.4"
  }
 },
 "nbformat": 4,
 "nbformat_minor": 5
}
