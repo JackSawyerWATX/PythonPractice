{
 "cells": [
  {
   "cell_type": "code",
   "execution_count": 43,
   "id": "09c188d3",
   "metadata": {},
   "outputs": [],
   "source": [
    "from datetime import datetime\n",
    "\n",
    "def getCurrentTime():\n",
    "    return datetime.now().strftime('%m-%d-%Y %H:%M:%S')\n",
    "\n",
    "class Messenger:\n",
    "    def __init__(self, listeners=[]):\n",
    "        self.listeners = listeners\n",
    "        \n",
    "    def send(self, message):\n",
    "        for listener in self.listeners:\n",
    "            listener.recieve(message)\n",
    "            \n",
    "    def recieve(self, message):\n",
    "        # implimented by extending class\n",
    "        pass\n",
    "    \n",
    "class SaveMessages(Messenger):\n",
    "    def __init__(self, listeners=[]):\n",
    "        super().__init__(listeners)\n",
    "        self.messages = []\n",
    "        \n",
    "    def recieve(self, message):\n",
    "        self.messages.append({'message' : message, 'time' : getCurrentTime()})\n",
    "        \n",
    "    def printMessages(self):\n",
    "        for m in self.messages:\n",
    "            print(f'Message: \"{m[\"message\"]}\" Time: {m[\"time\"]}')\n",
    "        self.messages = []"
   ]
  },
  {
   "cell_type": "code",
   "execution_count": 44,
   "id": "6cb53d01",
   "metadata": {},
   "outputs": [],
   "source": [
    "listener = SaveMessages()\n",
    "sender = Messenger([listener])\n",
    "sender.send('Hello there! This is your first message.')"
   ]
  },
  {
   "cell_type": "code",
   "execution_count": 45,
   "id": "b1f7fbdb",
   "metadata": {},
   "outputs": [],
   "source": [
    "sender.send('Oh, hi there! This is your second message.')"
   ]
  },
  {
   "cell_type": "code",
   "execution_count": 46,
   "id": "e1d47eda",
   "metadata": {},
   "outputs": [
    {
     "name": "stdout",
     "output_type": "stream",
     "text": [
      "Message: \"Hello there! This is your first message.\" Time: 05-25-2023 12:11:53\n",
      "Message: \"Oh, hi there! This is your second message.\" Time: 05-25-2023 12:11:58\n",
      "Message: \"Hola! This is your third and final  message.\" Time: 05-25-2023 12:12:03\n"
     ]
    }
   ],
   "source": [
    "sender.send('Hola! This is your third and final  message.')\n",
    "listener.printMessages()"
   ]
  },
  {
   "cell_type": "code",
   "execution_count": null,
   "id": "2c98568b",
   "metadata": {},
   "outputs": [],
   "source": []
  }
 ],
 "metadata": {
  "kernelspec": {
   "display_name": "Python 3 (ipykernel)",
   "language": "python",
   "name": "python3"
  },
  "language_info": {
   "codemirror_mode": {
    "name": "ipython",
    "version": 3
   },
   "file_extension": ".py",
   "mimetype": "text/x-python",
   "name": "python",
   "nbconvert_exporter": "python",
   "pygments_lexer": "ipython3",
   "version": "3.10.4"
  }
 },
 "nbformat": 4,
 "nbformat_minor": 5
}
