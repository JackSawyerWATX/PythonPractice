{
 "cells": [
  {
   "cell_type": "code",
   "execution_count": 6,
   "id": "72951b27",
   "metadata": {},
   "outputs": [
    {
     "name": "stdout",
     "output_type": "stream",
     "text": [
      "{'jonathan', 'i', 'here', 'another', 'to', 'is', 'sentence', 'that', 'add', 'want', 'im', 'hello', 'a'}\n"
     ]
    }
   ],
   "source": [
    "class WordSet:\n",
    "    def __init__(self):\n",
    "        self.words =  set()\n",
    "        \n",
    "    def addText(self, text):\n",
    "        text = WordSet.cleanText(text)\n",
    "        for word in text.split():\n",
    "            self.words.add(word)\n",
    "        \n",
    "    def cleanText(text):\n",
    "        text = text.replace('!', '').replace('.', '').replace('\\'', '')\n",
    "        return text.lower()\n",
    "        \n",
    "wordSet = WordSet()\n",
    "\n",
    "wordSet.addText('Hello. I\\'m Jonathan. Here is a sentence that I want to add.')\n",
    "wordSet.addText('Here is another sentence that I want to add')\n",
    "                                                              \n",
    "print(wordSet.words)"
   ]
  },
  {
   "cell_type": "code",
   "execution_count": 9,
   "id": "cf58e6b0",
   "metadata": {},
   "outputs": [
    {
     "name": "stdout",
     "output_type": "stream",
     "text": [
      "{'jonathan', 'i', 'here', 'another', 'to', 'is', 'sentence', 'that', 'add', 'want', 'im', 'hello', 'a'}\n"
     ]
    }
   ],
   "source": [
    "class WordSet:\n",
    "    replacePuncs = ['!','','.','\\'','']\n",
    "    def __init__(self):\n",
    "        self.words =  set()\n",
    "        \n",
    "    def addText(self, text):\n",
    "        text = WordSet.cleanText(text)\n",
    "        for word in text.split():\n",
    "            self.words.add(word)\n",
    "        \n",
    "    def cleanText(text):\n",
    "        for punc in WordSet.replacePuncs:\n",
    "            text = text.replace(punc, '')\n",
    "        return text.lower()\n",
    "        \n",
    "wordSet = WordSet()\n",
    "\n",
    "wordSet.addText('Hello. I\\'m Jonathan. Here is a sentence that I want to add.')\n",
    "wordSet.addText('Here is another sentence that I want to add')\n",
    "                                                              \n",
    "print(wordSet.words)"
   ]
  },
  {
   "cell_type": "code",
   "execution_count": 10,
   "id": "714a0308",
   "metadata": {},
   "outputs": [
    {
     "name": "stdout",
     "output_type": "stream",
     "text": [
      "{'jonathan', 'i', 'here', 'another', 'to', 'is', 'sentence', 'that', 'add', 'want', 'im', 'hello', 'a'}\n"
     ]
    }
   ],
   "source": [
    "class WordSet:\n",
    "    replacePuncs = ['!','','.','\\'','']\n",
    "    def __init__(self):\n",
    "        self.words =  set()\n",
    "        \n",
    "    def addText(self, text):\n",
    "        text = self.cleanText(text)\n",
    "        for word in text.split():\n",
    "            self.words.add(word)\n",
    "        \n",
    "    @staticmethod\n",
    "    def cleanText(text):\n",
    "        for punc in WordSet.replacePuncs:\n",
    "            text = text.replace(punc, '')\n",
    "        return text.lower()\n",
    "        \n",
    "wordSet = WordSet()\n",
    "\n",
    "wordSet.addText('Hello. I\\'m Jonathan. Here is a sentence that I want to add.')\n",
    "wordSet.addText('Here is another sentence that I want to add')\n",
    "                                                              \n",
    "print(wordSet.words)"
   ]
  },
  {
   "cell_type": "code",
   "execution_count": null,
   "id": "e2dafe37",
   "metadata": {},
   "outputs": [],
   "source": []
  }
 ],
 "metadata": {
  "kernelspec": {
   "display_name": "Python 3 (ipykernel)",
   "language": "python",
   "name": "python3"
  },
  "language_info": {
   "codemirror_mode": {
    "name": "ipython",
    "version": 3
   },
   "file_extension": ".py",
   "mimetype": "text/x-python",
   "name": "python",
   "nbconvert_exporter": "python",
   "pygments_lexer": "ipython3",
   "version": "3.10.4"
  }
 },
 "nbformat": 4,
 "nbformat_minor": 5
}
