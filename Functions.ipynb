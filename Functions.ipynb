{
 "cells": [
  {
   "cell_type": "code",
   "execution_count": null,
   "id": "6fa30d50",
   "metadata": {},
   "outputs": [],
   "source": [
    "import math"
   ]
  },
  {
   "cell_type": "code",
   "execution_count": 8,
   "id": "220fffbe",
   "metadata": {},
   "outputs": [
    {
     "data": {
      "text/plain": [
       "5"
      ]
     },
     "execution_count": 8,
     "metadata": {},
     "output_type": "execute_result"
    }
   ],
   "source": [
    "def performOperation(num1, num2, operation):\n",
    "    if operation == 'sum':\n",
    "        return num1 + num2\n",
    "    if operation == 'multiply':\n",
    "        return num1 * num2\n",
    "\n",
    "performOperation(2, 3, 'sum')"
   ]
  },
  {
   "cell_type": "code",
   "execution_count": 9,
   "id": "30cf7d3e",
   "metadata": {},
   "outputs": [
    {
     "data": {
      "text/plain": [
       "5"
      ]
     },
     "execution_count": 9,
     "metadata": {},
     "output_type": "execute_result"
    }
   ],
   "source": [
    "def performOperation(num1, num2, operation = 'sum'):\n",
    "    if operation == 'sum':\n",
    "        return num1 + num2\n",
    "    if operation == 'multiply':\n",
    "        return num1 * num2\n",
    "\n",
    "performOperation(2, 3)"
   ]
  },
  {
   "cell_type": "code",
   "execution_count": 10,
   "id": "54bd18e7",
   "metadata": {},
   "outputs": [
    {
     "data": {
      "text/plain": [
       "6"
      ]
     },
     "execution_count": 10,
     "metadata": {},
     "output_type": "execute_result"
    }
   ],
   "source": [
    "def performOperation(num1, num2, operation):\n",
    "    if operation == 'sum':\n",
    "        return num1 + num2\n",
    "    if operation == 'multiply':\n",
    "        return num1 * num2\n",
    "\n",
    "performOperation(2, 3, operation = 'multiply')"
   ]
  },
  {
   "cell_type": "code",
   "execution_count": 11,
   "id": "8735ef2a",
   "metadata": {},
   "outputs": [
    {
     "name": "stdout",
     "output_type": "stream",
     "text": [
      "(1, 2, 3)\n"
     ]
    }
   ],
   "source": [
    "def performOperation(*args):\n",
    "    print(args)\n",
    "    \n",
    "performOperation(1, 2, 3)"
   ]
  },
  {
   "cell_type": "code",
   "execution_count": 13,
   "id": "91abc06f",
   "metadata": {},
   "outputs": [
    {
     "name": "stdout",
     "output_type": "stream",
     "text": [
      "(1, 2, 3)\n",
      "{'operation': 'sum'}\n"
     ]
    }
   ],
   "source": [
    "def performOperation(*args, **kwargs):\n",
    "    print(args)\n",
    "    print(kwargs)\n",
    "    \n",
    "performOperation(1, 2, 3, operation = 'sum')"
   ]
  },
  {
   "cell_type": "code",
   "execution_count": 17,
   "id": "feaf8399",
   "metadata": {},
   "outputs": [
    {
     "data": {
      "text/plain": [
       "21"
      ]
     },
     "execution_count": 17,
     "metadata": {},
     "output_type": "execute_result"
    }
   ],
   "source": [
    "def performOperation(*args, operation='sum'):\n",
    "    if operation == 'sum':\n",
    "        return sum(args)\n",
    "    if operation == 'multiply':\n",
    "        return math.prod(args)\n",
    "\n",
    "performOperation(1, 2, 3, 4, 5, 6, operation='sum')"
   ]
  },
  {
   "cell_type": "code",
   "execution_count": 19,
   "id": "694b8909",
   "metadata": {},
   "outputs": [
    {
     "name": "stdout",
     "output_type": "stream",
     "text": [
      "{'num1': 1, 'num2': 2, 'operation': 'multiply'}\n"
     ]
    }
   ],
   "source": [
    "def performOperation(num1, num2, operation='sum'):\n",
    "    print(locals())\n",
    "    \n",
    "performOperation(1, 2, operation = 'multiply')"
   ]
  },
  {
   "cell_type": "code",
   "execution_count": 20,
   "id": "04990a76",
   "metadata": {
    "collapsed": true
   },
   "outputs": [
    {
     "data": {
      "text/plain": [
       "{'__name__': '__main__',\n",
       " '__doc__': 'Automatically created module for IPython interactive environment',\n",
       " '__package__': None,\n",
       " '__loader__': None,\n",
       " '__spec__': None,\n",
       " '__builtin__': <module 'builtins' (built-in)>,\n",
       " '__builtins__': <module 'builtins' (built-in)>,\n",
       " '_ih': ['',\n",
       "  \"def performOperation(num1, num 2, operation)\\n    if operation == 'sum':\\n        return num1 + num2\\n    if operation == 'multiply':\\n        return num1 * num2\\n\\nperformOperation(2, 3, sum)\",\n",
       "  \"def performOperation(num1, num2, operation)\\n    if operation == 'sum':\\n        return num1 + num2\\n    if operation == 'multiply':\\n        return num1 * num2\\n\\nperformOperation(2, 3, sum)\",\n",
       "  \"def performOperation(num1, num2, operation):\\n    if operation == 'sum':\\n        return num1 + num2\\n    if operation == 'multiply':\\n        return num1 * num2\\n\\nperformOperation(2, 3, sum)\",\n",
       "  \"def performOperation(num1, num2, operation):\\n    if operation == 'sum':\\n        return num1 + num2\\n    if operation == 'multiply':\\n        return num1 * num2\\n\\nperformOperation(2, 3, sum)\",\n",
       "  \"def performOperation(num1, num2, operation):\\n    if operation == 'sum':\\n        return num1 + num2\\n    if operation == 'multiply':\\n        return num1 * num2\\n\\nperformOperation(2, 3, sum)\\nprint(performOperation())\",\n",
       "  \"def performOperation(num1, num2, operation):\\n    if operation == 'sum':\\n        return num1 + num2\\n    if operation == 'multiply':\\n        return num1 * num2\\n\\nprint(performOperation(2, 3, sum))\",\n",
       "  \"def performOperation(num1, num2, operation):\\n    if operation == 'sum':\\n        return num1 + num2\\n    if operation == 'multiply':\\n        return num1 * num2\\n\\nperformOperation(2, 3, sum)\",\n",
       "  \"def performOperation(num1, num2, operation):\\n    if operation == 'sum':\\n        return num1 + num2\\n    if operation == 'multiply':\\n        return num1 * num2\\n\\nperformOperation(2, 3, 'sum')\",\n",
       "  \"def performOperation(num1, num2, operation = 'sum'):\\n    if operation == 'sum':\\n        return num1 + num2\\n    if operation == 'multiply':\\n        return num1 * num2\\n\\nperformOperation(2, 3)\",\n",
       "  \"def performOperation(num1, num2, operation):\\n    if operation == 'sum':\\n        return num1 + num2\\n    if operation == 'multiply':\\n        return num1 * num2\\n\\nperformOperation(2, 3, operation = 'multiply')\",\n",
       "  'def performOperation(*args):\\n    print(args)\\n    \\nperformOperation(1, 2, 3)',\n",
       "  \"def performOperation(*args, *kwargs):\\n    print(args)\\n    print(kwargs)\\n    \\nperformOperation(1, 2, 3, operation = 'sum')\",\n",
       "  \"def performOperation(*args, **kwargs):\\n    print(args)\\n    print(kwargs)\\n    \\nperformOperation(1, 2, 3, operation = 'sum')\",\n",
       "  \"def performOperation(*args, operation = 'sum'):\\n    if operation == 'sum':\\n        return sum(args)\\n    if operation == 'multiply':\\n        return math.prod(args)\\n\\nperformOperation(2, 3, 'sum')\",\n",
       "  \"def performOperation(*args, operation='sum'):\\n    if operation == 'sum':\\n        return sum(args)\\n    if operation == 'multiply':\\n        return math.prod(args)\\n\\nperformOperation(2, 3, 'sum')\",\n",
       "  \"def performOperation(*args, operation='sum'):\\n    if operation == 'sum':\\n        return sum(args)\\n    if operation == 'multiply':\\n        return math.prod(args)\\n\\nperformOperation(1, 2, 3, operation='sum')\",\n",
       "  \"def performOperation(*args, operation='sum'):\\n    if operation == 'sum':\\n        return sum(args)\\n    if operation == 'multiply':\\n        return math.prod(args)\\n\\nperformOperation(1, 2, 3, 4, 5, 6, operation='sum')\",\n",
       "  \"def performOperation(num1, num2, operation='sum')\\n    print(locals())\\n    \\nperformOperation(1, 2, operation = 'multiply')\",\n",
       "  \"def performOperation(num1, num2, operation='sum'):\\n    print(locals())\\n    \\nperformOperation(1, 2, operation = 'multiply')\",\n",
       "  'globals()'],\n",
       " '_oh': {8: 5, 9: 5, 10: 6, 16: 6, 17: 21},\n",
       " '_dh': [WindowsPath('C:/Users/jonat/OneDrive/Desktop/PythonPractice')],\n",
       " 'In': ['',\n",
       "  \"def performOperation(num1, num 2, operation)\\n    if operation == 'sum':\\n        return num1 + num2\\n    if operation == 'multiply':\\n        return num1 * num2\\n\\nperformOperation(2, 3, sum)\",\n",
       "  \"def performOperation(num1, num2, operation)\\n    if operation == 'sum':\\n        return num1 + num2\\n    if operation == 'multiply':\\n        return num1 * num2\\n\\nperformOperation(2, 3, sum)\",\n",
       "  \"def performOperation(num1, num2, operation):\\n    if operation == 'sum':\\n        return num1 + num2\\n    if operation == 'multiply':\\n        return num1 * num2\\n\\nperformOperation(2, 3, sum)\",\n",
       "  \"def performOperation(num1, num2, operation):\\n    if operation == 'sum':\\n        return num1 + num2\\n    if operation == 'multiply':\\n        return num1 * num2\\n\\nperformOperation(2, 3, sum)\",\n",
       "  \"def performOperation(num1, num2, operation):\\n    if operation == 'sum':\\n        return num1 + num2\\n    if operation == 'multiply':\\n        return num1 * num2\\n\\nperformOperation(2, 3, sum)\\nprint(performOperation())\",\n",
       "  \"def performOperation(num1, num2, operation):\\n    if operation == 'sum':\\n        return num1 + num2\\n    if operation == 'multiply':\\n        return num1 * num2\\n\\nprint(performOperation(2, 3, sum))\",\n",
       "  \"def performOperation(num1, num2, operation):\\n    if operation == 'sum':\\n        return num1 + num2\\n    if operation == 'multiply':\\n        return num1 * num2\\n\\nperformOperation(2, 3, sum)\",\n",
       "  \"def performOperation(num1, num2, operation):\\n    if operation == 'sum':\\n        return num1 + num2\\n    if operation == 'multiply':\\n        return num1 * num2\\n\\nperformOperation(2, 3, 'sum')\",\n",
       "  \"def performOperation(num1, num2, operation = 'sum'):\\n    if operation == 'sum':\\n        return num1 + num2\\n    if operation == 'multiply':\\n        return num1 * num2\\n\\nperformOperation(2, 3)\",\n",
       "  \"def performOperation(num1, num2, operation):\\n    if operation == 'sum':\\n        return num1 + num2\\n    if operation == 'multiply':\\n        return num1 * num2\\n\\nperformOperation(2, 3, operation = 'multiply')\",\n",
       "  'def performOperation(*args):\\n    print(args)\\n    \\nperformOperation(1, 2, 3)',\n",
       "  \"def performOperation(*args, *kwargs):\\n    print(args)\\n    print(kwargs)\\n    \\nperformOperation(1, 2, 3, operation = 'sum')\",\n",
       "  \"def performOperation(*args, **kwargs):\\n    print(args)\\n    print(kwargs)\\n    \\nperformOperation(1, 2, 3, operation = 'sum')\",\n",
       "  \"def performOperation(*args, operation = 'sum'):\\n    if operation == 'sum':\\n        return sum(args)\\n    if operation == 'multiply':\\n        return math.prod(args)\\n\\nperformOperation(2, 3, 'sum')\",\n",
       "  \"def performOperation(*args, operation='sum'):\\n    if operation == 'sum':\\n        return sum(args)\\n    if operation == 'multiply':\\n        return math.prod(args)\\n\\nperformOperation(2, 3, 'sum')\",\n",
       "  \"def performOperation(*args, operation='sum'):\\n    if operation == 'sum':\\n        return sum(args)\\n    if operation == 'multiply':\\n        return math.prod(args)\\n\\nperformOperation(1, 2, 3, operation='sum')\",\n",
       "  \"def performOperation(*args, operation='sum'):\\n    if operation == 'sum':\\n        return sum(args)\\n    if operation == 'multiply':\\n        return math.prod(args)\\n\\nperformOperation(1, 2, 3, 4, 5, 6, operation='sum')\",\n",
       "  \"def performOperation(num1, num2, operation='sum')\\n    print(locals())\\n    \\nperformOperation(1, 2, operation = 'multiply')\",\n",
       "  \"def performOperation(num1, num2, operation='sum'):\\n    print(locals())\\n    \\nperformOperation(1, 2, operation = 'multiply')\",\n",
       "  'globals()'],\n",
       " 'Out': {8: 5, 9: 5, 10: 6, 16: 6, 17: 21},\n",
       " 'get_ipython': <bound method InteractiveShell.get_ipython of <ipykernel.zmqshell.ZMQInteractiveShell object at 0x000001A57A5DEA40>>,\n",
       " 'exit': <IPython.core.autocall.ZMQExitAutocall at 0x1a57a5df100>,\n",
       " 'quit': <IPython.core.autocall.ZMQExitAutocall at 0x1a57a5df100>,\n",
       " 'open': <function io.open(file, mode='r', buffering=-1, encoding=None, errors=None, newline=None, closefd=True, opener=None)>,\n",
       " '_': 21,\n",
       " '__': 6,\n",
       " '___': 6,\n",
       " '_i': \"def performOperation(num1, num2, operation='sum'):\\n    print(locals())\\n    \\nperformOperation(1, 2, operation = 'multiply')\",\n",
       " '_ii': \"def performOperation(num1, num2, operation='sum')\\n    print(locals())\\n    \\nperformOperation(1, 2, operation = 'multiply')\",\n",
       " '_iii': \"def performOperation(*args, operation='sum'):\\n    if operation == 'sum':\\n        return sum(args)\\n    if operation == 'multiply':\\n        return math.prod(args)\\n\\nperformOperation(1, 2, 3, 4, 5, 6, operation='sum')\",\n",
       " '_i1': \"def performOperation(num1, num 2, operation)\\n    if operation == 'sum':\\n        return num1 + num2\\n    if operation == 'multiply':\\n        return num1 * num2\\n\\nperformOperation(2, 3, sum)\",\n",
       " '_i2': \"def performOperation(num1, num2, operation)\\n    if operation == 'sum':\\n        return num1 + num2\\n    if operation == 'multiply':\\n        return num1 * num2\\n\\nperformOperation(2, 3, sum)\",\n",
       " '_i3': \"def performOperation(num1, num2, operation):\\n    if operation == 'sum':\\n        return num1 + num2\\n    if operation == 'multiply':\\n        return num1 * num2\\n\\nperformOperation(2, 3, sum)\",\n",
       " 'performOperation': <function __main__.performOperation(num1, num2, operation='sum')>,\n",
       " '_i4': \"def performOperation(num1, num2, operation):\\n    if operation == 'sum':\\n        return num1 + num2\\n    if operation == 'multiply':\\n        return num1 * num2\\n\\nperformOperation(2, 3, sum)\",\n",
       " '_i5': \"def performOperation(num1, num2, operation):\\n    if operation == 'sum':\\n        return num1 + num2\\n    if operation == 'multiply':\\n        return num1 * num2\\n\\nperformOperation(2, 3, sum)\\nprint(performOperation())\",\n",
       " '_i6': \"def performOperation(num1, num2, operation):\\n    if operation == 'sum':\\n        return num1 + num2\\n    if operation == 'multiply':\\n        return num1 * num2\\n\\nprint(performOperation(2, 3, sum))\",\n",
       " '_i7': \"def performOperation(num1, num2, operation):\\n    if operation == 'sum':\\n        return num1 + num2\\n    if operation == 'multiply':\\n        return num1 * num2\\n\\nperformOperation(2, 3, sum)\",\n",
       " '_i8': \"def performOperation(num1, num2, operation):\\n    if operation == 'sum':\\n        return num1 + num2\\n    if operation == 'multiply':\\n        return num1 * num2\\n\\nperformOperation(2, 3, 'sum')\",\n",
       " '_8': 5,\n",
       " '_i9': \"def performOperation(num1, num2, operation = 'sum'):\\n    if operation == 'sum':\\n        return num1 + num2\\n    if operation == 'multiply':\\n        return num1 * num2\\n\\nperformOperation(2, 3)\",\n",
       " '_9': 5,\n",
       " '_i10': \"def performOperation(num1, num2, operation):\\n    if operation == 'sum':\\n        return num1 + num2\\n    if operation == 'multiply':\\n        return num1 * num2\\n\\nperformOperation(2, 3, operation = 'multiply')\",\n",
       " '_10': 6,\n",
       " '_i11': 'def performOperation(*args):\\n    print(args)\\n    \\nperformOperation(1, 2, 3)',\n",
       " '_i12': \"def performOperation(*args, *kwargs):\\n    print(args)\\n    print(kwargs)\\n    \\nperformOperation(1, 2, 3, operation = 'sum')\",\n",
       " '_i13': \"def performOperation(*args, **kwargs):\\n    print(args)\\n    print(kwargs)\\n    \\nperformOperation(1, 2, 3, operation = 'sum')\",\n",
       " '_i14': \"def performOperation(*args, operation = 'sum'):\\n    if operation == 'sum':\\n        return sum(args)\\n    if operation == 'multiply':\\n        return math.prod(args)\\n\\nperformOperation(2, 3, 'sum')\",\n",
       " '_i15': \"def performOperation(*args, operation='sum'):\\n    if operation == 'sum':\\n        return sum(args)\\n    if operation == 'multiply':\\n        return math.prod(args)\\n\\nperformOperation(2, 3, 'sum')\",\n",
       " '_i16': \"def performOperation(*args, operation='sum'):\\n    if operation == 'sum':\\n        return sum(args)\\n    if operation == 'multiply':\\n        return math.prod(args)\\n\\nperformOperation(1, 2, 3, operation='sum')\",\n",
       " '_16': 6,\n",
       " '_i17': \"def performOperation(*args, operation='sum'):\\n    if operation == 'sum':\\n        return sum(args)\\n    if operation == 'multiply':\\n        return math.prod(args)\\n\\nperformOperation(1, 2, 3, 4, 5, 6, operation='sum')\",\n",
       " '_17': 21,\n",
       " '_i18': \"def performOperation(num1, num2, operation='sum')\\n    print(locals())\\n    \\nperformOperation(1, 2, operation = 'multiply')\",\n",
       " '_i19': \"def performOperation(num1, num2, operation='sum'):\\n    print(locals())\\n    \\nperformOperation(1, 2, operation = 'multiply')\",\n",
       " '_i20': 'globals()'}"
      ]
     },
     "execution_count": 20,
     "metadata": {},
     "output_type": "execute_result"
    }
   ],
   "source": [
    "globals()"
   ]
  },
  {
   "cell_type": "code",
   "execution_count": 26,
   "id": "6f6a27bf",
   "metadata": {},
   "outputs": [
    {
     "name": "stdout",
     "output_type": "stream",
     "text": [
      "1\n",
      "Some local data.\n",
      "{'varA': 1, 'varB': 2, 'message': 'Some local data.'}\n",
      "2\n",
      "Some global data.\n",
      "{'varC': 3, 'varD': 4}\n"
     ]
    }
   ],
   "source": [
    "message = 'Some global data.'\n",
    "varA = 2\n",
    "\n",
    "def function1(varA, varB):\n",
    "    message = 'Some local data.'\n",
    "    print(varA)\n",
    "    print (message)\n",
    "    print (locals())\n",
    "    \n",
    "def function2(varC, varD):\n",
    "    print(varA)\n",
    "    print (message)\n",
    "    print (locals())    \n",
    "    \n",
    "function1(1,2)\n",
    "function2(3,4)"
   ]
  },
  {
   "cell_type": "code",
   "execution_count": 28,
   "id": "1e4a0b8e",
   "metadata": {},
   "outputs": [
    {
     "name": "stdout",
     "output_type": "stream",
     "text": [
      "1\n",
      "{'varA': 1, 'varB': 2, 'message': 'Some local data.', 'inner_function': <function function1.<locals>.inner_function at 0x000001A57BCC75B0>}\n",
      "inner_function local scope:{'varA': 123, 'varB': 456}\n"
     ]
    }
   ],
   "source": [
    "def function1(varA, varB):\n",
    "    message = 'Some local data.'\n",
    "    print(varA)\n",
    "    def inner_function(varA, varB):\n",
    "        print(f'inner_function local scope:{locals()}')\n",
    "        \n",
    "    print (locals()) \n",
    "    inner_function(123, 456)\n",
    "function1(1,2)"
   ]
  },
  {
   "cell_type": "code",
   "execution_count": 33,
   "id": "6d5dbd45",
   "metadata": {},
   "outputs": [
    {
     "data": {
      "text/plain": [
       "[1, 2, 3, 4, 5, 5, 6, 7, 8, 9, 10, 11, 12]"
      ]
     },
     "execution_count": 33,
     "metadata": {},
     "output_type": "execute_result"
    }
   ],
   "source": [
    "myList = [7,10,5,3,9,12,5,1,11,2,8,4,6]\n",
    "sorted(myList)"
   ]
  },
  {
   "cell_type": "code",
   "execution_count": 35,
   "id": "04c5a733",
   "metadata": {},
   "outputs": [
    {
     "data": {
      "text/plain": [
       "[{'num': 1}, {'num': 2}, {'num': 3}]"
      ]
     },
     "execution_count": 35,
     "metadata": {},
     "output_type": "execute_result"
    }
   ],
   "source": [
    "myList = [{'num': 3}, {'num': 2}, {'num' : 1}]\n",
    "sorted(myList, key=lambda x: x ['num'])"
   ]
  },
  {
   "cell_type": "code",
   "execution_count": 36,
   "id": "c77c7255",
   "metadata": {},
   "outputs": [
    {
     "name": "stdout",
     "output_type": "stream",
     "text": [
      "3, 2\n"
     ]
    }
   ],
   "source": [
    "var1 = 1\n",
    "var2 = 2\n",
    "def someFunc(var1):\n",
    "    print(f'{var1}, {var2}')\n",
    "\n",
    "someFunc(3)"
   ]
  },
  {
   "cell_type": "code",
   "execution_count": 37,
   "id": "2963260c",
   "metadata": {},
   "outputs": [
    {
     "name": "stdout",
     "output_type": "stream",
     "text": [
      "17\n"
     ]
    }
   ],
   "source": [
    "def someFunc(func):\n",
    "    print(func(5) + 2)\n",
    "\n",
    "someFunc(lambda x: x * 3)"
   ]
  },
  {
   "cell_type": "code",
   "execution_count": null,
   "id": "91178a67",
   "metadata": {},
   "outputs": [],
   "source": []
  }
 ],
 "metadata": {
  "kernelspec": {
   "display_name": "Python 3 (ipykernel)",
   "language": "python",
   "name": "python3"
  },
  "language_info": {
   "codemirror_mode": {
    "name": "ipython",
    "version": 3
   },
   "file_extension": ".py",
   "mimetype": "text/x-python",
   "name": "python",
   "nbconvert_exporter": "python",
   "pygments_lexer": "ipython3",
   "version": "3.10.4"
  }
 },
 "nbformat": 4,
 "nbformat_minor": 5
}
