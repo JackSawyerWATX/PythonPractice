{
 "cells": [
  {
   "cell_type": "code",
   "execution_count": 1,
   "id": "aab25a3c",
   "metadata": {},
   "outputs": [],
   "source": [
    "import os\n",
    "import json\n",
    "\n",
    "# Encodes as a list of (char, count) tuples\n",
    "def encodeString(stringVal):\n",
    "    encodedList = []\n",
    "    prevChar = None\n",
    "    count = 0\n",
    "    for char in stringVal:\n",
    "        if prevChar != char and prevChar is not None:\n",
    "            encodedList.append((prevChar, count))\n",
    "            count = 0\n",
    "        prevChar = char\n",
    "        count = count + 1\n",
    "    encodedList.append((prevChar, count))\n",
    "    return encodedList\n",
    "\n",
    "def decodeString(encodedList):\n",
    "    decodedStr = ''\n",
    "    for item in encodedList:\n",
    "        try:\n",
    "            decodedStr = decodedStr + item[0] * item[1]\n",
    "        except:\n",
    "            print(item)\n",
    "    return decodedStr"
   ]
  },
  {
   "cell_type": "code",
   "execution_count": 2,
   "id": "641a39f1",
   "metadata": {},
   "outputs": [
    {
     "name": "stdout",
     "output_type": "stream",
     "text": [
      "Original file size: 1042\n",
      "New file size: 10015\n",
      "\n",
      "|1~ |80~\n",
      "|1~ |80~\n",
      "|1~ |31~%|19~ |30~\n",
      "|1~ |24~%|33~ |23~\n",
      "|1~ |20~%|8~ |25~%|8~ |19~\n",
      "|1~ |16~%|7~ |35~%|6~ |16~\n",
      "|1~ |14~%|6~ |41~%|6~ |13~\n",
      "|1~ |11~%|6~ |47~%|5~ |11~\n",
      "|1~ |10~%|5~ |51~%|5~ |9~\n",
      "|1~ |8~%|5~ |55~%|5~ |7~\n",
      "|1~ |7~%|4~ |17~%|5~ |14~%|5~ |18~%|4~ |6~\n",
      "|1~ |6~%|4~ |17~%|7~ |12~%|7~ |18~%|4~ |5~\n",
      "|1~ |5~%|4~ |18~%|7~ |12~%|7~ |19~%|4~ |4~\n",
      "|1~ |4~%|4~ |19~%|7~ |12~%|7~ |20~%|4~ |3~\n",
      "|1~ |4~%|4~ |20~%|5~ |14~%|5~ |21~%|4~ |3~\n",
      "|1~ |3~%|4~ |67~%|4~ |2~\n",
      "|1~ |3~%|4~ |67~%|4~ |2~\n",
      "|1~ |3~%|4~ |67~%|4~ |2~\n",
      "|1~ |3~%|4~ |54~%|4~ |8~%|4~ |3~\n",
      "|1~ |4~%|4~ |7~%|6~ |40~%|5~ |7~%|4~ |3~\n",
      "|1~ |4~%|4~ |9~%|4~ |39~%|4~ |8~%|4~ |4~\n",
      "|1~ |5~%|4~ |9~%|4~ |37~%|4~ |9~%|4~ |4~\n",
      "|1~ |6~%|4~ |9~%|5~ |34~%|4~ |9~%|4~ |5~\n",
      "|1~ |7~%|5~ |9~%|5~ |29~%|5~ |9~%|5~ |6~\n",
      "|1~ |8~%|5~ |10~%|6~ |24~%|5~ |10~%|4~ |8~\n",
      "|1~ |10~%|5~ |11~%|7~ |15~%|7~ |11~%|5~ |9~\n",
      "|1~ |12~%|5~ |13~%|21~ |13~%|5~ |11~\n",
      "|1~ |14~%|7~ |40~%|5~ |14~\n",
      "|1~ |17~%|7~ |33~%|7~ |16~\n",
      "|1~ |21~%|9~ |21~%|9~ |20~\n",
      "|1~ |26~%|29~ |25~\n",
      "|1~ |35~%|12~ |33~\n",
      "|1~ |80~\n",
      "|1~ |81~\n",
      "|2\n"
     ]
    }
   ],
   "source": [
    "def encodeFile(filename, newFilename):\n",
    "    with open(filename) as f:\n",
    "        data = encodeString(f.read())\n",
    "\n",
    "    with open(newFilename, 'w') as f:\n",
    "        f.write(json.dumps(data))\n",
    "\n",
    "def decodeFile(filename):\n",
    "    with open(filename) as f:\n",
    "        data = f.read()\n",
    "    return decodeString(json.loads(data))\n",
    "\n",
    "print(f'Original file size: {os.path.getsize(\"10_04_challenge_art.txt\")}')\n",
    "encodeFile('10_04_challenge_art.txt', '10_04_challenge_art_encoded.txt')\n",
    "print(f'New file size: {os.path.getsize(\"10_04_challenge_art_encoded.txt\")}')\n",
    "print(decodeFile('10_04_challenge_art_encoded.txt'))"
   ]
  },
  {
   "cell_type": "code",
   "execution_count": 3,
   "id": "53f76d4e",
   "metadata": {},
   "outputs": [],
   "source": [
    "# [('A', 1), ('B', 80), ('C', 10)]\n",
    "# becomes A|1~B|80~C|10\n",
    "def encodeFile(filename, newFilename):\n",
    "    with open(filename) as f:\n",
    "        data = encodeString(f.read())\n",
    "\n",
    "    data = [f'{char}|{count}' for char, count in data]\n",
    "    \n",
    "    with open(newFilename, 'w') as f:\n",
    "        f.write('~'.join(data))\n",
    "\n",
    "\n",
    "def decodeFile(filename):\n",
    "    with open(filename) as f:\n",
    "        data = f.read()\n",
    "        \n",
    "    pairs = data.split('~')\n",
    "    pairs = [p.split('|') for p in pairs]\n",
    "    pairs = [(p[0], int(p[1])) for p in pairs]\n",
    "    return decodeString(pairs)"
   ]
  },
  {
   "cell_type": "code",
   "execution_count": 4,
   "id": "909c1520",
   "metadata": {},
   "outputs": [
    {
     "name": "stdout",
     "output_type": "stream",
     "text": [
      "Original file size: 1042\n",
      "New file size: 4026\n"
     ]
    },
    {
     "ename": "ValueError",
     "evalue": "invalid literal for int() with base 10: ''",
     "output_type": "error",
     "traceback": [
      "\u001b[1;31m---------------------------------------------------------------------------\u001b[0m",
      "\u001b[1;31mValueError\u001b[0m                                Traceback (most recent call last)",
      "Cell \u001b[1;32mIn[4], line 4\u001b[0m\n\u001b[0;32m      2\u001b[0m encodeFile(\u001b[38;5;124m'\u001b[39m\u001b[38;5;124m10_04_challenge_art.txt\u001b[39m\u001b[38;5;124m'\u001b[39m, \u001b[38;5;124m'\u001b[39m\u001b[38;5;124m10_04_challenge_art_encoded.txt\u001b[39m\u001b[38;5;124m'\u001b[39m)\n\u001b[0;32m      3\u001b[0m \u001b[38;5;28mprint\u001b[39m(\u001b[38;5;124mf\u001b[39m\u001b[38;5;124m'\u001b[39m\u001b[38;5;124mNew file size: \u001b[39m\u001b[38;5;132;01m{\u001b[39;00mos\u001b[38;5;241m.\u001b[39mpath\u001b[38;5;241m.\u001b[39mgetsize(\u001b[38;5;124m\"\u001b[39m\u001b[38;5;124m10_04_challenge_art_encoded.txt\u001b[39m\u001b[38;5;124m\"\u001b[39m)\u001b[38;5;132;01m}\u001b[39;00m\u001b[38;5;124m'\u001b[39m)\n\u001b[1;32m----> 4\u001b[0m \u001b[38;5;28mprint\u001b[39m(\u001b[43mdecodeFile\u001b[49m\u001b[43m(\u001b[49m\u001b[38;5;124;43m'\u001b[39;49m\u001b[38;5;124;43m10_04_challenge_art_encoded.txt\u001b[39;49m\u001b[38;5;124;43m'\u001b[39;49m\u001b[43m)\u001b[49m)\n",
      "Cell \u001b[1;32mIn[3], line 19\u001b[0m, in \u001b[0;36mdecodeFile\u001b[1;34m(filename)\u001b[0m\n\u001b[0;32m     17\u001b[0m pairs \u001b[38;5;241m=\u001b[39m data\u001b[38;5;241m.\u001b[39msplit(\u001b[38;5;124m'\u001b[39m\u001b[38;5;124m~\u001b[39m\u001b[38;5;124m'\u001b[39m)\n\u001b[0;32m     18\u001b[0m pairs \u001b[38;5;241m=\u001b[39m [p\u001b[38;5;241m.\u001b[39msplit(\u001b[38;5;124m'\u001b[39m\u001b[38;5;124m|\u001b[39m\u001b[38;5;124m'\u001b[39m) \u001b[38;5;28;01mfor\u001b[39;00m p \u001b[38;5;129;01min\u001b[39;00m pairs]\n\u001b[1;32m---> 19\u001b[0m pairs \u001b[38;5;241m=\u001b[39m [(p[\u001b[38;5;241m0\u001b[39m], \u001b[38;5;28mint\u001b[39m(p[\u001b[38;5;241m1\u001b[39m])) \u001b[38;5;28;01mfor\u001b[39;00m p \u001b[38;5;129;01min\u001b[39;00m pairs]\n\u001b[0;32m     20\u001b[0m \u001b[38;5;28;01mreturn\u001b[39;00m decodeString(pairs)\n",
      "Cell \u001b[1;32mIn[3], line 19\u001b[0m, in \u001b[0;36m<listcomp>\u001b[1;34m(.0)\u001b[0m\n\u001b[0;32m     17\u001b[0m pairs \u001b[38;5;241m=\u001b[39m data\u001b[38;5;241m.\u001b[39msplit(\u001b[38;5;124m'\u001b[39m\u001b[38;5;124m~\u001b[39m\u001b[38;5;124m'\u001b[39m)\n\u001b[0;32m     18\u001b[0m pairs \u001b[38;5;241m=\u001b[39m [p\u001b[38;5;241m.\u001b[39msplit(\u001b[38;5;124m'\u001b[39m\u001b[38;5;124m|\u001b[39m\u001b[38;5;124m'\u001b[39m) \u001b[38;5;28;01mfor\u001b[39;00m p \u001b[38;5;129;01min\u001b[39;00m pairs]\n\u001b[1;32m---> 19\u001b[0m pairs \u001b[38;5;241m=\u001b[39m [(p[\u001b[38;5;241m0\u001b[39m], \u001b[38;5;28;43mint\u001b[39;49m\u001b[43m(\u001b[49m\u001b[43mp\u001b[49m\u001b[43m[\u001b[49m\u001b[38;5;241;43m1\u001b[39;49m\u001b[43m]\u001b[49m\u001b[43m)\u001b[49m) \u001b[38;5;28;01mfor\u001b[39;00m p \u001b[38;5;129;01min\u001b[39;00m pairs]\n\u001b[0;32m     20\u001b[0m \u001b[38;5;28;01mreturn\u001b[39;00m decodeString(pairs)\n",
      "\u001b[1;31mValueError\u001b[0m: invalid literal for int() with base 10: ''"
     ]
    }
   ],
   "source": [
    "print(f'Original file size: {os.path.getsize(\"10_04_challenge_art.txt\")}')\n",
    "encodeFile('10_04_challenge_art.txt', '10_04_challenge_art_encoded.txt')\n",
    "print(f'New file size: {os.path.getsize(\"10_04_challenge_art_encoded.txt\")}')\n",
    "print(decodeFile('10_04_challenge_art_encoded.txt'))"
   ]
  },
  {
   "cell_type": "code",
   "execution_count": null,
   "id": "acb63b45",
   "metadata": {},
   "outputs": [],
   "source": [
    "def encodeFile(filename, newFilename):\n",
    "    with open(filename) as f:\n",
    "        data = encodeString(f.read())\n",
    "    output = bytearray()\n",
    "    for item in data:\n",
    "        # Character byte\n",
    "        output.extend(bytes(item[0], 'utf-8'))\n",
    "        # Integer count byte\n",
    "        output.extend(item[1].to_bytes(1, 'big'))\n",
    "    with open(newFilename, 'wb') as binary_file:\n",
    "        # Write bytes to file\n",
    "        binary_file.write(output)\n",
    "\n",
    "\n",
    "def decodeFile(filename):\n",
    "    with open(filename, 'rb') as f:\n",
    "        data = f.read()\n",
    "        # Split data into pairs \n",
    "        bytePairs = [data[i:i+2] for i in range(0, len(data), 2)]\n",
    "        encodedList = []\n",
    "        for bytePair in bytePairs:\n",
    "            encodedList.append((bytePair[:1].decode('utf-8'), int.from_bytes(bytePair[1:], 'big')))\n",
    "        return decodeString(encodedList)"
   ]
  },
  {
   "cell_type": "code",
   "execution_count": null,
   "id": "fa95ac01",
   "metadata": {},
   "outputs": [],
   "source": [
    "print(f'Original file size: {os.path.getsize(\"10_04_challenge_art.txt\")}')\n",
    "encodeFile('10_04_challenge_art.txt', '10_04_challenge_art_encoded.aa')"
   ]
  },
  {
   "cell_type": "code",
   "execution_count": null,
   "id": "bf4d904d",
   "metadata": {},
   "outputs": [],
   "source": [
    "print(f'New file size: {os.path.getsize(\"10_04_challenge_art_encoded.aa\")}')\n",
    "print(decodeFile('10_04_challenge_art_encoded.aa'))"
   ]
  }
 ],
 "metadata": {
  "kernelspec": {
   "display_name": "Python 3 (ipykernel)",
   "language": "python",
   "name": "python3"
  },
  "language_info": {
   "codemirror_mode": {
    "name": "ipython",
    "version": 3
   },
   "file_extension": ".py",
   "mimetype": "text/x-python",
   "name": "python",
   "nbconvert_exporter": "python",
   "pygments_lexer": "ipython3",
   "version": "3.10.4"
  }
 },
 "nbformat": 4,
 "nbformat_minor": 5
}
