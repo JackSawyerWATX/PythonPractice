{
 "cells": [
  {
   "cell_type": "code",
   "execution_count": null,
   "id": "ce0d28a7",
   "metadata": {},
   "outputs": [],
   "source": [
    "from datetime import datetime"
   ]
  },
  {
   "cell_type": "code",
   "execution_count": null,
   "id": "3bb77a22",
   "metadata": {},
   "outputs": [],
   "source": [
    "datetime.now().second"
   ]
  },
  {
   "cell_type": "code",
   "execution_count": null,
   "id": "83e6d931",
   "metadata": {},
   "outputs": [],
   "source": [
    "wait_until = datetime.now().second + 2\n",
    "\n",
    "while datetime.now().second != wait_until:\n",
    "    pass\n",
    "    \n",
    "print(f'We are at {wait_until} seconds.')"
   ]
  },
  {
   "cell_type": "code",
   "execution_count": null,
   "id": "b42baf50",
   "metadata": {},
   "outputs": [],
   "source": []
  }
 ],
 "metadata": {
  "kernelspec": {
   "display_name": "Python 3 (ipykernel)",
   "language": "python",
   "name": "python3"
  },
  "language_info": {
   "codemirror_mode": {
    "name": "ipython",
    "version": 3
   },
   "file_extension": ".py",
   "mimetype": "text/x-python",
   "name": "python",
   "nbconvert_exporter": "python",
   "pygments_lexer": "ipython3",
   "version": "3.10.4"
  }
 },
 "nbformat": 4,
 "nbformat_minor": 5
}
